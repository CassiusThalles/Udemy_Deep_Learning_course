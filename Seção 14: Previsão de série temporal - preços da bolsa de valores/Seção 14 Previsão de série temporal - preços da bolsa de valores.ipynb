{
 "cells": [
  {
   "cell_type": "code",
   "execution_count": 21,
   "id": "3f2f573e",
   "metadata": {},
   "outputs": [],
   "source": [
    "from tensorflow.keras.models import Sequential\n",
    "from tensorflow.keras.layers import Dense, Dropout, LSTM\n",
    "from sklearn.preprocessing import MinMaxScaler\n",
    "import matplotlib.pyplot as plt\n",
    "import numpy as np\n",
    "import pandas as pd"
   ]
  },
  {
   "cell_type": "code",
   "execution_count": 2,
   "id": "969fedfc",
   "metadata": {},
   "outputs": [
    {
     "data": {
      "text/html": [
       "<div>\n",
       "<style scoped>\n",
       "    .dataframe tbody tr th:only-of-type {\n",
       "        vertical-align: middle;\n",
       "    }\n",
       "\n",
       "    .dataframe tbody tr th {\n",
       "        vertical-align: top;\n",
       "    }\n",
       "\n",
       "    .dataframe thead th {\n",
       "        text-align: right;\n",
       "    }\n",
       "</style>\n",
       "<table border=\"1\" class=\"dataframe\">\n",
       "  <thead>\n",
       "    <tr style=\"text-align: right;\">\n",
       "      <th></th>\n",
       "      <th>Date</th>\n",
       "      <th>Open</th>\n",
       "      <th>High</th>\n",
       "      <th>Low</th>\n",
       "      <th>Close</th>\n",
       "      <th>Adj Close</th>\n",
       "      <th>Volume</th>\n",
       "    </tr>\n",
       "  </thead>\n",
       "  <tbody>\n",
       "    <tr>\n",
       "      <th>0</th>\n",
       "      <td>2013-01-02</td>\n",
       "      <td>19.990000</td>\n",
       "      <td>20.209999</td>\n",
       "      <td>19.690001</td>\n",
       "      <td>19.690001</td>\n",
       "      <td>18.086271</td>\n",
       "      <td>30182600.0</td>\n",
       "    </tr>\n",
       "    <tr>\n",
       "      <th>1</th>\n",
       "      <td>2013-01-03</td>\n",
       "      <td>19.809999</td>\n",
       "      <td>20.400000</td>\n",
       "      <td>19.700001</td>\n",
       "      <td>20.400000</td>\n",
       "      <td>18.738441</td>\n",
       "      <td>30552600.0</td>\n",
       "    </tr>\n",
       "    <tr>\n",
       "      <th>2</th>\n",
       "      <td>2013-01-04</td>\n",
       "      <td>20.330000</td>\n",
       "      <td>20.620001</td>\n",
       "      <td>20.170000</td>\n",
       "      <td>20.430000</td>\n",
       "      <td>18.766001</td>\n",
       "      <td>36141000.0</td>\n",
       "    </tr>\n",
       "    <tr>\n",
       "      <th>3</th>\n",
       "      <td>2013-01-07</td>\n",
       "      <td>20.480000</td>\n",
       "      <td>20.670000</td>\n",
       "      <td>19.950001</td>\n",
       "      <td>20.080000</td>\n",
       "      <td>18.444506</td>\n",
       "      <td>28069600.0</td>\n",
       "    </tr>\n",
       "    <tr>\n",
       "      <th>4</th>\n",
       "      <td>2013-01-08</td>\n",
       "      <td>20.110001</td>\n",
       "      <td>20.230000</td>\n",
       "      <td>19.459999</td>\n",
       "      <td>19.500000</td>\n",
       "      <td>17.911745</td>\n",
       "      <td>29091300.0</td>\n",
       "    </tr>\n",
       "    <tr>\n",
       "      <th>...</th>\n",
       "      <td>...</td>\n",
       "      <td>...</td>\n",
       "      <td>...</td>\n",
       "      <td>...</td>\n",
       "      <td>...</td>\n",
       "      <td>...</td>\n",
       "      <td>...</td>\n",
       "    </tr>\n",
       "    <tr>\n",
       "      <th>1240</th>\n",
       "      <td>2017-12-25</td>\n",
       "      <td>15.750000</td>\n",
       "      <td>15.750000</td>\n",
       "      <td>15.750000</td>\n",
       "      <td>15.750000</td>\n",
       "      <td>15.718563</td>\n",
       "      <td>0.0</td>\n",
       "    </tr>\n",
       "    <tr>\n",
       "      <th>1241</th>\n",
       "      <td>2017-12-26</td>\n",
       "      <td>15.750000</td>\n",
       "      <td>15.990000</td>\n",
       "      <td>15.690000</td>\n",
       "      <td>15.970000</td>\n",
       "      <td>15.938125</td>\n",
       "      <td>22173100.0</td>\n",
       "    </tr>\n",
       "    <tr>\n",
       "      <th>1242</th>\n",
       "      <td>2017-12-27</td>\n",
       "      <td>15.990000</td>\n",
       "      <td>16.139999</td>\n",
       "      <td>15.980000</td>\n",
       "      <td>16.049999</td>\n",
       "      <td>16.017963</td>\n",
       "      <td>23552200.0</td>\n",
       "    </tr>\n",
       "    <tr>\n",
       "      <th>1243</th>\n",
       "      <td>2017-12-28</td>\n",
       "      <td>16.100000</td>\n",
       "      <td>16.129999</td>\n",
       "      <td>16.000000</td>\n",
       "      <td>16.100000</td>\n",
       "      <td>16.067865</td>\n",
       "      <td>19011500.0</td>\n",
       "    </tr>\n",
       "    <tr>\n",
       "      <th>1244</th>\n",
       "      <td>2017-12-29</td>\n",
       "      <td>16.100000</td>\n",
       "      <td>16.100000</td>\n",
       "      <td>16.100000</td>\n",
       "      <td>16.100000</td>\n",
       "      <td>16.067865</td>\n",
       "      <td>0.0</td>\n",
       "    </tr>\n",
       "  </tbody>\n",
       "</table>\n",
       "<p>1242 rows × 7 columns</p>\n",
       "</div>"
      ],
      "text/plain": [
       "            Date       Open       High        Low      Close  Adj Close  \\\n",
       "0     2013-01-02  19.990000  20.209999  19.690001  19.690001  18.086271   \n",
       "1     2013-01-03  19.809999  20.400000  19.700001  20.400000  18.738441   \n",
       "2     2013-01-04  20.330000  20.620001  20.170000  20.430000  18.766001   \n",
       "3     2013-01-07  20.480000  20.670000  19.950001  20.080000  18.444506   \n",
       "4     2013-01-08  20.110001  20.230000  19.459999  19.500000  17.911745   \n",
       "...          ...        ...        ...        ...        ...        ...   \n",
       "1240  2017-12-25  15.750000  15.750000  15.750000  15.750000  15.718563   \n",
       "1241  2017-12-26  15.750000  15.990000  15.690000  15.970000  15.938125   \n",
       "1242  2017-12-27  15.990000  16.139999  15.980000  16.049999  16.017963   \n",
       "1243  2017-12-28  16.100000  16.129999  16.000000  16.100000  16.067865   \n",
       "1244  2017-12-29  16.100000  16.100000  16.100000  16.100000  16.067865   \n",
       "\n",
       "          Volume  \n",
       "0     30182600.0  \n",
       "1     30552600.0  \n",
       "2     36141000.0  \n",
       "3     28069600.0  \n",
       "4     29091300.0  \n",
       "...          ...  \n",
       "1240         0.0  \n",
       "1241  22173100.0  \n",
       "1242  23552200.0  \n",
       "1243  19011500.0  \n",
       "1244         0.0  \n",
       "\n",
       "[1242 rows x 7 columns]"
      ]
     },
     "execution_count": 2,
     "metadata": {},
     "output_type": "execute_result"
    }
   ],
   "source": [
    "base = pd.read_csv('petr4_treinamento.csv')\n",
    "base.dropna(inplace=True)\n",
    "base"
   ]
  },
  {
   "cell_type": "code",
   "execution_count": 3,
   "id": "4948079c",
   "metadata": {},
   "outputs": [
    {
     "data": {
      "text/plain": [
       "array([[0.76080559],\n",
       "       [0.79567784],\n",
       "       [0.79715132],\n",
       "       ...,\n",
       "       [0.58202356],\n",
       "       [0.5844794 ],\n",
       "       [0.5844794 ]])"
      ]
     },
     "execution_count": 3,
     "metadata": {},
     "output_type": "execute_result"
    }
   ],
   "source": [
    "base_treinamento = base[['Close']]\n",
    "normalizador = MinMaxScaler(feature_range=(0,1))\n",
    "base_treinamento_normalizada = normalizador.fit_transform(base_treinamento)\n",
    "base_treinamento_normalizada"
   ]
  },
  {
   "cell_type": "code",
   "execution_count": 4,
   "id": "8a289677",
   "metadata": {},
   "outputs": [
    {
     "data": {
      "text/plain": [
       "(1242, 1)"
      ]
     },
     "execution_count": 4,
     "metadata": {},
     "output_type": "execute_result"
    }
   ],
   "source": [
    "base_treinamento_normalizada.shape"
   ]
  },
  {
   "cell_type": "code",
   "execution_count": 5,
   "id": "2995d66a",
   "metadata": {},
   "outputs": [
    {
     "name": "stdout",
     "output_type": "stream",
     "text": [
      "[[0.76080559 0.79567784 0.79715132 ... 0.75392926 0.75491163 0.76375249]\n",
      " [0.79567784 0.79715132 0.77996075 ... 0.75491163 0.76375249 0.77062867]\n",
      " [0.79715132 0.77996075 0.75147351 ... 0.76375249 0.77062867 0.7858547 ]\n",
      " ...\n",
      " [0.46954816 0.47151279 0.47544207 ... 0.56728883 0.56728883 0.57809433]\n",
      " [0.47151279 0.47544207 0.47495091 ... 0.56728883 0.57809433 0.58202356]\n",
      " [0.47544207 0.47495091 0.47396859 ... 0.57809433 0.58202356 0.5844794 ]]\n",
      "[0.77062867 0.7858547  0.78831045 ... 0.58202356 0.5844794  0.5844794 ]\n"
     ]
    }
   ],
   "source": [
    "previsores = []\n",
    "preco_real = []\n",
    "for i in range(90, 1242):\n",
    "    previsores.append(base_treinamento_normalizada[i-90:i, 0])\n",
    "    preco_real.append(base_treinamento_normalizada[i, 0])\n",
    "previsores, preco_real = np.array(previsores), np.array(preco_real)\n",
    "print(previsores)\n",
    "print(preco_real)"
   ]
  },
  {
   "cell_type": "code",
   "execution_count": 6,
   "id": "c2f69cd8",
   "metadata": {
    "scrolled": true
   },
   "outputs": [
    {
     "data": {
      "text/plain": [
       "array([[0.76080559],\n",
       "       [0.79567784],\n",
       "       [0.79715132],\n",
       "       [0.77996075],\n",
       "       [0.75147351],\n",
       "       [0.76031438],\n",
       "       [0.76768177],\n",
       "       [0.77013751],\n",
       "       [0.76227897],\n",
       "       [0.76719061],\n",
       "       [0.76817293],\n",
       "       [0.76178781],\n",
       "       [0.75540279],\n",
       "       [0.74607071],\n",
       "       [0.75540279],\n",
       "       [0.75392926],\n",
       "       [0.75687631],\n",
       "       [0.74508849],\n",
       "       [0.73231836],\n",
       "       [0.68762287],\n",
       "       [0.68172891],\n",
       "       [0.70039291],\n",
       "       [0.67779964],\n",
       "       [0.68172891],\n",
       "       [0.65815327],\n",
       "       [0.65324168],\n",
       "       [0.6650295 ],\n",
       "       [0.66797641],\n",
       "       [0.66159139],\n",
       "       [0.6596267 ],\n",
       "       [0.67288805],\n",
       "       [0.68271123],\n",
       "       [0.65913564],\n",
       "       [0.64440082],\n",
       "       [0.63605111],\n",
       "       [0.62622798],\n",
       "       [0.61591359],\n",
       "       [0.61935165],\n",
       "       [0.60952857],\n",
       "       [0.62377213],\n",
       "       [0.60412577],\n",
       "       [0.60707267],\n",
       "       [0.68025539],\n",
       "       [0.72445981],\n",
       "       [0.69597258],\n",
       "       [0.72347744],\n",
       "       [0.71414542],\n",
       "       [0.71463658],\n",
       "       [0.74115922],\n",
       "       [0.73133599],\n",
       "       [0.73673879],\n",
       "       [0.73182715],\n",
       "       [0.71954817],\n",
       "       [0.70383112],\n",
       "       [0.70874262],\n",
       "       [0.70677803],\n",
       "       [0.70677803],\n",
       "       [0.69842833],\n",
       "       [0.67927317],\n",
       "       [0.66306491],\n",
       "       [0.67779964],\n",
       "       [0.66355598],\n",
       "       [0.66797641],\n",
       "       [0.64685666],\n",
       "       [0.68516703],\n",
       "       [0.69842833],\n",
       "       [0.67730848],\n",
       "       [0.67583495],\n",
       "       [0.63998039],\n",
       "       [0.66306491],\n",
       "       [0.63703343],\n",
       "       [0.66895878],\n",
       "       [0.6969548 ],\n",
       "       [0.71660126],\n",
       "       [0.73280952],\n",
       "       [0.74852661],\n",
       "       [0.73526526],\n",
       "       [0.79666016],\n",
       "       [0.7804519 ],\n",
       "       [0.78831045],\n",
       "       [0.77455795],\n",
       "       [0.79223972],\n",
       "       [0.80648339],\n",
       "       [0.79027514],\n",
       "       [0.7907662 ],\n",
       "       [0.77406679],\n",
       "       [0.75098236],\n",
       "       [0.75392926],\n",
       "       [0.75491163],\n",
       "       [0.76375249]])"
      ]
     },
     "execution_count": 6,
     "metadata": {},
     "output_type": "execute_result"
    }
   ],
   "source": [
    "previsores = np.reshape(previsores, (previsores.shape[0], previsores.shape[1], 1))\n",
    "previsores[0]"
   ]
  },
  {
   "cell_type": "code",
   "execution_count": 8,
   "id": "72111346",
   "metadata": {
    "scrolled": true
   },
   "outputs": [
    {
     "name": "stdout",
     "output_type": "stream",
     "text": [
      "Epoch 1/100\n",
      "1152/1152 [==============================] - 6s 5ms/sample - loss: 0.0333 - mean_absolute_error: 0.1372\n",
      "Epoch 2/100\n",
      "1152/1152 [==============================] - 6s 5ms/sample - loss: 0.0145 - mean_absolute_error: 0.0934\n",
      "Epoch 3/100\n",
      "1152/1152 [==============================] - 7s 6ms/sample - loss: 0.0119 - mean_absolute_error: 0.0848\n",
      "Epoch 4/100\n",
      "1152/1152 [==============================] - 7s 6ms/sample - loss: 0.0114 - mean_absolute_error: 0.0816\n",
      "Epoch 5/100\n",
      "1152/1152 [==============================] - 7s 6ms/sample - loss: 0.0099 - mean_absolute_error: 0.0773\n",
      "Epoch 6/100\n",
      "1152/1152 [==============================] - 7s 6ms/sample - loss: 0.0082 - mean_absolute_error: 0.0688\n",
      "Epoch 7/100\n",
      "1152/1152 [==============================] - 7s 6ms/sample - loss: 0.0090 - mean_absolute_error: 0.0716\n",
      "Epoch 8/100\n",
      "1152/1152 [==============================] - 7s 6ms/sample - loss: 0.0071 - mean_absolute_error: 0.0646\n",
      "Epoch 9/100\n",
      "1152/1152 [==============================] - 7s 6ms/sample - loss: 0.0069 - mean_absolute_error: 0.0630\n",
      "Epoch 10/100\n",
      "1152/1152 [==============================] - 7s 6ms/sample - loss: 0.0068 - mean_absolute_error: 0.0619\n",
      "Epoch 11/100\n",
      "1152/1152 [==============================] - 7s 6ms/sample - loss: 0.0068 - mean_absolute_error: 0.0628\n",
      "Epoch 12/100\n",
      "1152/1152 [==============================] - 7s 6ms/sample - loss: 0.0058 - mean_absolute_error: 0.0578\n",
      "Epoch 13/100\n",
      "1152/1152 [==============================] - 7s 6ms/sample - loss: 0.0063 - mean_absolute_error: 0.0593\n",
      "Epoch 14/100\n",
      "1152/1152 [==============================] - 7s 6ms/sample - loss: 0.0058 - mean_absolute_error: 0.0569\n",
      "Epoch 15/100\n",
      "1152/1152 [==============================] - 7s 6ms/sample - loss: 0.0046 - mean_absolute_error: 0.0511\n",
      "Epoch 16/100\n",
      "1152/1152 [==============================] - 7s 6ms/sample - loss: 0.0048 - mean_absolute_error: 0.0534\n",
      "Epoch 17/100\n",
      "1152/1152 [==============================] - 7s 6ms/sample - loss: 0.0051 - mean_absolute_error: 0.0545\n",
      "Epoch 18/100\n",
      "1152/1152 [==============================] - 7s 6ms/sample - loss: 0.0046 - mean_absolute_error: 0.0512\n",
      "Epoch 19/100\n",
      "1152/1152 [==============================] - 7s 6ms/sample - loss: 0.0042 - mean_absolute_error: 0.0485\n",
      "Epoch 20/100\n",
      "1152/1152 [==============================] - 7s 6ms/sample - loss: 0.0046 - mean_absolute_error: 0.0518\n",
      "Epoch 21/100\n",
      "1152/1152 [==============================] - 7s 6ms/sample - loss: 0.0042 - mean_absolute_error: 0.0498\n",
      "Epoch 22/100\n",
      "1152/1152 [==============================] - 7s 6ms/sample - loss: 0.0042 - mean_absolute_error: 0.0494\n",
      "Epoch 23/100\n",
      "1152/1152 [==============================] - 7s 6ms/sample - loss: 0.0043 - mean_absolute_error: 0.0488\n",
      "Epoch 24/100\n",
      "1152/1152 [==============================] - 7s 6ms/sample - loss: 0.0042 - mean_absolute_error: 0.0488\n",
      "Epoch 25/100\n",
      "1152/1152 [==============================] - 7s 6ms/sample - loss: 0.0038 - mean_absolute_error: 0.0460\n",
      "Epoch 26/100\n",
      "1152/1152 [==============================] - 7s 6ms/sample - loss: 0.0038 - mean_absolute_error: 0.0466\n",
      "Epoch 27/100\n",
      "1152/1152 [==============================] - 7s 6ms/sample - loss: 0.0034 - mean_absolute_error: 0.0446\n",
      "Epoch 28/100\n",
      "1152/1152 [==============================] - 7s 6ms/sample - loss: 0.0034 - mean_absolute_error: 0.0445\n",
      "Epoch 29/100\n",
      "1152/1152 [==============================] - 7s 6ms/sample - loss: 0.0035 - mean_absolute_error: 0.0444\n",
      "Epoch 30/100\n",
      "1152/1152 [==============================] - 7s 6ms/sample - loss: 0.0033 - mean_absolute_error: 0.0441\n",
      "Epoch 31/100\n",
      "1152/1152 [==============================] - 7s 6ms/sample - loss: 0.0029 - mean_absolute_error: 0.0416\n",
      "Epoch 32/100\n",
      "1152/1152 [==============================] - 7s 6ms/sample - loss: 0.0030 - mean_absolute_error: 0.0420\n",
      "Epoch 33/100\n",
      "1152/1152 [==============================] - 7s 6ms/sample - loss: 0.0028 - mean_absolute_error: 0.0400\n",
      "Epoch 34/100\n",
      "1152/1152 [==============================] - 7s 6ms/sample - loss: 0.0029 - mean_absolute_error: 0.0411\n",
      "Epoch 35/100\n",
      "1152/1152 [==============================] - 7s 6ms/sample - loss: 0.0029 - mean_absolute_error: 0.0406\n",
      "Epoch 36/100\n",
      "1152/1152 [==============================] - 7s 6ms/sample - loss: 0.0028 - mean_absolute_error: 0.0399\n",
      "Epoch 37/100\n",
      "1152/1152 [==============================] - 7s 6ms/sample - loss: 0.0027 - mean_absolute_error: 0.0394\n",
      "Epoch 38/100\n",
      "1152/1152 [==============================] - 7s 6ms/sample - loss: 0.0026 - mean_absolute_error: 0.0383\n",
      "Epoch 39/100\n",
      "1152/1152 [==============================] - 7s 6ms/sample - loss: 0.0027 - mean_absolute_error: 0.0388\n",
      "Epoch 40/100\n",
      "1152/1152 [==============================] - 7s 6ms/sample - loss: 0.0027 - mean_absolute_error: 0.0401\n",
      "Epoch 41/100\n",
      "1152/1152 [==============================] - 7s 6ms/sample - loss: 0.0025 - mean_absolute_error: 0.0392\n",
      "Epoch 42/100\n",
      "1152/1152 [==============================] - 7s 6ms/sample - loss: 0.0023 - mean_absolute_error: 0.0371\n",
      "Epoch 43/100\n",
      "1152/1152 [==============================] - 7s 6ms/sample - loss: 0.0024 - mean_absolute_error: 0.0379\n",
      "Epoch 44/100\n",
      "1152/1152 [==============================] - 7s 6ms/sample - loss: 0.0026 - mean_absolute_error: 0.0386\n",
      "Epoch 45/100\n",
      "1152/1152 [==============================] - 7s 6ms/sample - loss: 0.0024 - mean_absolute_error: 0.0365\n",
      "Epoch 46/100\n",
      "1152/1152 [==============================] - 7s 6ms/sample - loss: 0.0024 - mean_absolute_error: 0.0374\n",
      "Epoch 47/100\n",
      "1152/1152 [==============================] - 7s 6ms/sample - loss: 0.0024 - mean_absolute_error: 0.0374\n",
      "Epoch 48/100\n",
      "1152/1152 [==============================] - 7s 6ms/sample - loss: 0.0024 - mean_absolute_error: 0.0368\n",
      "Epoch 49/100\n",
      "1152/1152 [==============================] - 7s 6ms/sample - loss: 0.0023 - mean_absolute_error: 0.0368\n",
      "Epoch 50/100\n",
      "1152/1152 [==============================] - 7s 6ms/sample - loss: 0.0023 - mean_absolute_error: 0.0358\n",
      "Epoch 51/100\n",
      "1152/1152 [==============================] - 7s 6ms/sample - loss: 0.0023 - mean_absolute_error: 0.0365\n",
      "Epoch 52/100\n",
      "1152/1152 [==============================] - 7s 6ms/sample - loss: 0.0022 - mean_absolute_error: 0.0350\n",
      "Epoch 53/100\n",
      "1152/1152 [==============================] - 7s 6ms/sample - loss: 0.0020 - mean_absolute_error: 0.0345\n",
      "Epoch 54/100\n",
      "1152/1152 [==============================] - 7s 6ms/sample - loss: 0.0021 - mean_absolute_error: 0.0348\n",
      "Epoch 55/100\n",
      "1152/1152 [==============================] - 7s 6ms/sample - loss: 0.0023 - mean_absolute_error: 0.0364\n",
      "Epoch 56/100\n",
      "1152/1152 [==============================] - 7s 6ms/sample - loss: 0.0020 - mean_absolute_error: 0.0344\n",
      "Epoch 57/100\n",
      "1152/1152 [==============================] - 7s 6ms/sample - loss: 0.0020 - mean_absolute_error: 0.0340\n",
      "Epoch 58/100\n",
      "1152/1152 [==============================] - 7s 6ms/sample - loss: 0.0020 - mean_absolute_error: 0.0338\n",
      "Epoch 59/100\n",
      "1152/1152 [==============================] - 7s 6ms/sample - loss: 0.0022 - mean_absolute_error: 0.0354\n",
      "Epoch 60/100\n",
      "1152/1152 [==============================] - 7s 6ms/sample - loss: 0.0020 - mean_absolute_error: 0.0340\n",
      "Epoch 61/100\n",
      "1152/1152 [==============================] - 7s 6ms/sample - loss: 0.0018 - mean_absolute_error: 0.0332\n",
      "Epoch 62/100\n",
      "1152/1152 [==============================] - 7s 6ms/sample - loss: 0.0020 - mean_absolute_error: 0.0332\n",
      "Epoch 63/100\n",
      "1152/1152 [==============================] - 7s 6ms/sample - loss: 0.0019 - mean_absolute_error: 0.0324\n",
      "Epoch 64/100\n",
      "1152/1152 [==============================] - 7s 6ms/sample - loss: 0.0020 - mean_absolute_error: 0.0344\n",
      "Epoch 65/100\n",
      "1152/1152 [==============================] - 7s 6ms/sample - loss: 0.0018 - mean_absolute_error: 0.0323\n",
      "Epoch 66/100\n",
      "1152/1152 [==============================] - 7s 6ms/sample - loss: 0.0019 - mean_absolute_error: 0.0331\n",
      "Epoch 67/100\n",
      "1152/1152 [==============================] - 7s 6ms/sample - loss: 0.0019 - mean_absolute_error: 0.0332\n",
      "Epoch 68/100\n",
      "1152/1152 [==============================] - 7s 6ms/sample - loss: 0.0017 - mean_absolute_error: 0.0322\n",
      "Epoch 69/100\n",
      "1152/1152 [==============================] - 7s 6ms/sample - loss: 0.0019 - mean_absolute_error: 0.0324\n",
      "Epoch 70/100\n",
      "1152/1152 [==============================] - 7s 6ms/sample - loss: 0.0018 - mean_absolute_error: 0.0314\n",
      "Epoch 71/100\n"
     ]
    },
    {
     "name": "stdout",
     "output_type": "stream",
     "text": [
      "1152/1152 [==============================] - 7s 6ms/sample - loss: 0.0019 - mean_absolute_error: 0.0326\n",
      "Epoch 72/100\n",
      "1152/1152 [==============================] - 7s 6ms/sample - loss: 0.0017 - mean_absolute_error: 0.0315\n",
      "Epoch 73/100\n",
      "1152/1152 [==============================] - 7s 6ms/sample - loss: 0.0016 - mean_absolute_error: 0.0307\n",
      "Epoch 74/100\n",
      "1152/1152 [==============================] - 7s 6ms/sample - loss: 0.0018 - mean_absolute_error: 0.0321\n",
      "Epoch 75/100\n",
      "1152/1152 [==============================] - 7s 6ms/sample - loss: 0.0017 - mean_absolute_error: 0.0315\n",
      "Epoch 76/100\n",
      "1152/1152 [==============================] - 7s 6ms/sample - loss: 0.0017 - mean_absolute_error: 0.0307\n",
      "Epoch 77/100\n",
      "1152/1152 [==============================] - 7s 6ms/sample - loss: 0.0017 - mean_absolute_error: 0.0313\n",
      "Epoch 78/100\n",
      "1152/1152 [==============================] - 7s 6ms/sample - loss: 0.0017 - mean_absolute_error: 0.0308\n",
      "Epoch 79/100\n",
      "1152/1152 [==============================] - 7s 6ms/sample - loss: 0.0018 - mean_absolute_error: 0.0325\n",
      "Epoch 80/100\n",
      "1152/1152 [==============================] - 7s 6ms/sample - loss: 0.0015 - mean_absolute_error: 0.0303\n",
      "Epoch 81/100\n",
      "1152/1152 [==============================] - 7s 6ms/sample - loss: 0.0017 - mean_absolute_error: 0.0301\n",
      "Epoch 82/100\n",
      "1152/1152 [==============================] - 7s 6ms/sample - loss: 0.0017 - mean_absolute_error: 0.0307\n",
      "Epoch 83/100\n",
      "1152/1152 [==============================] - 7s 6ms/sample - loss: 0.0016 - mean_absolute_error: 0.0303\n",
      "Epoch 84/100\n",
      "1152/1152 [==============================] - 7s 6ms/sample - loss: 0.0017 - mean_absolute_error: 0.0312\n",
      "Epoch 85/100\n",
      "1152/1152 [==============================] - 7s 6ms/sample - loss: 0.0018 - mean_absolute_error: 0.0318\n",
      "Epoch 86/100\n",
      "1152/1152 [==============================] - 7s 6ms/sample - loss: 0.0017 - mean_absolute_error: 0.0302\n",
      "Epoch 87/100\n",
      "1152/1152 [==============================] - 7s 6ms/sample - loss: 0.0017 - mean_absolute_error: 0.0312\n",
      "Epoch 88/100\n",
      "1152/1152 [==============================] - 7s 6ms/sample - loss: 0.0016 - mean_absolute_error: 0.0300\n",
      "Epoch 89/100\n",
      "1152/1152 [==============================] - 7s 6ms/sample - loss: 0.0015 - mean_absolute_error: 0.0289\n",
      "Epoch 90/100\n",
      "1152/1152 [==============================] - 7s 6ms/sample - loss: 0.0017 - mean_absolute_error: 0.0303\n",
      "Epoch 91/100\n",
      "1152/1152 [==============================] - 7s 6ms/sample - loss: 0.0016 - mean_absolute_error: 0.0308\n",
      "Epoch 92/100\n",
      "1152/1152 [==============================] - 7s 6ms/sample - loss: 0.0015 - mean_absolute_error: 0.0292\n",
      "Epoch 93/100\n",
      "1152/1152 [==============================] - 7s 6ms/sample - loss: 0.0016 - mean_absolute_error: 0.0299\n",
      "Epoch 94/100\n",
      "1152/1152 [==============================] - 7s 6ms/sample - loss: 0.0015 - mean_absolute_error: 0.0295\n",
      "Epoch 95/100\n",
      "1152/1152 [==============================] - 7s 6ms/sample - loss: 0.0016 - mean_absolute_error: 0.0296\n",
      "Epoch 96/100\n",
      "1152/1152 [==============================] - 7s 6ms/sample - loss: 0.0016 - mean_absolute_error: 0.0302\n",
      "Epoch 97/100\n",
      "1152/1152 [==============================] - 7s 6ms/sample - loss: 0.0016 - mean_absolute_error: 0.0300\n",
      "Epoch 98/100\n",
      "1152/1152 [==============================] - 7s 6ms/sample - loss: 0.0013 - mean_absolute_error: 0.0277\n",
      "Epoch 99/100\n",
      "1152/1152 [==============================] - 7s 6ms/sample - loss: 0.0015 - mean_absolute_error: 0.0288\n",
      "Epoch 100/100\n",
      "1152/1152 [==============================] - 7s 6ms/sample - loss: 0.0014 - mean_absolute_error: 0.0277\n"
     ]
    },
    {
     "data": {
      "text/plain": [
       "<tensorflow.python.keras.callbacks.History at 0x7f7072e88e50>"
      ]
     },
     "execution_count": 8,
     "metadata": {},
     "output_type": "execute_result"
    }
   ],
   "source": [
    "regressor = Sequential()\n",
    "\n",
    "regressor.add(LSTM(\n",
    "    units=100,\n",
    "    return_sequences=True,\n",
    "    input_shape=(previsores.shape[1], 1)\n",
    "))\n",
    "regressor.add(Dropout(0.3))\n",
    "\n",
    "regressor.add(LSTM(\n",
    "    units=50,\n",
    "    return_sequences=True\n",
    "))\n",
    "regressor.add(Dropout(0.3))\n",
    "\n",
    "regressor.add(LSTM(\n",
    "    units=50,\n",
    "    return_sequences=True\n",
    "))\n",
    "regressor.add(Dropout(0.3))\n",
    "\n",
    "regressor.add(LSTM(\n",
    "    units=50\n",
    "))\n",
    "regressor.add(Dropout(0.3))\n",
    "\n",
    "regressor.add(Dense(\n",
    "    units=1,\n",
    "    activation='linear'\n",
    "))\n",
    "\n",
    "regressor.compile(\n",
    "    optimizer='rmsprop',\n",
    "    loss='mean_squared_error',\n",
    "    metrics=['mean_absolute_error']\n",
    ")\n",
    "\n",
    "regressor.fit(previsores, preco_real, epochs=100, batch_size=32)"
   ]
  },
  {
   "cell_type": "code",
   "execution_count": 9,
   "id": "b58e38e8",
   "metadata": {},
   "outputs": [
    {
     "data": {
      "text/plain": [
       "0     19.690001\n",
       "1     20.400000\n",
       "2     20.430000\n",
       "3     20.080000\n",
       "4     19.500000\n",
       "        ...    \n",
       "17    19.340000\n",
       "18    19.930000\n",
       "19    19.850000\n",
       "20    19.490000\n",
       "21    19.700001\n",
       "Name: Close, Length: 1264, dtype: float64"
      ]
     },
     "execution_count": 9,
     "metadata": {},
     "output_type": "execute_result"
    }
   ],
   "source": [
    "base_teste = pd.read_csv('petr4_teste.csv')\n",
    "preco_real_teste = base_teste['Close'].values\n",
    "base_completa = pd.concat((base['Close'], base_teste['Close']), axis=0)\n",
    "base_completa"
   ]
  },
  {
   "cell_type": "code",
   "execution_count": 13,
   "id": "22e74294",
   "metadata": {},
   "outputs": [
    {
     "name": "stderr",
     "output_type": "stream",
     "text": [
      "/home/cassius/anaconda3/lib/python3.7/site-packages/sklearn/base.py:451: UserWarning: X does not have valid feature names, but MinMaxScaler was fitted with feature names\n",
      "  \"X does not have valid feature names, but\"\n"
     ]
    },
    {
     "data": {
      "text/plain": [
       "112"
      ]
     },
     "execution_count": 13,
     "metadata": {},
     "output_type": "execute_result"
    }
   ],
   "source": [
    "entradas = base_completa[len(base_completa) - len(base_teste) - 90:].values\n",
    "entradas = entradas.reshape(-1, 1)\n",
    "entradas = normalizador.transform(entradas)\n",
    "len(entradas)"
   ]
  },
  {
   "cell_type": "code",
   "execution_count": 16,
   "id": "d9a588e7",
   "metadata": {},
   "outputs": [
    {
     "data": {
      "text/plain": [
       "(22, 90, 1)"
      ]
     },
     "execution_count": 16,
     "metadata": {},
     "output_type": "execute_result"
    }
   ],
   "source": [
    "X_teste = []\n",
    "for i in range(90, 112):\n",
    "    X_teste.append(entradas[i-90:i, 0])\n",
    "X_teste = np.array(X_teste)\n",
    "X_teste = np.reshape(X_teste, (X_teste.shape[0], X_teste.shape[1], 1))\n",
    "X_teste.shape"
   ]
  },
  {
   "cell_type": "code",
   "execution_count": 17,
   "id": "e0717dc7",
   "metadata": {},
   "outputs": [
    {
     "data": {
      "text/plain": [
       "array([[0.57947   ],\n",
       "       [0.59649855],\n",
       "       [0.60665005],\n",
       "       [0.6073431 ],\n",
       "       [0.6112249 ],\n",
       "       [0.6209606 ],\n",
       "       [0.6229713 ],\n",
       "       [0.61386245],\n",
       "       [0.62920725],\n",
       "       [0.6365826 ],\n",
       "       [0.63663304],\n",
       "       [0.6479838 ],\n",
       "       [0.6788642 ],\n",
       "       [0.6771927 ],\n",
       "       [0.6746503 ],\n",
       "       [0.68586457],\n",
       "       [0.68024933],\n",
       "       [0.7208485 ],\n",
       "       [0.72845566],\n",
       "       [0.7465112 ],\n",
       "       [0.7477451 ],\n",
       "       [0.732852  ]], dtype=float32)"
      ]
     },
     "execution_count": 17,
     "metadata": {},
     "output_type": "execute_result"
    }
   ],
   "source": [
    "previsoes = regressor.predict(X_teste)\n",
    "previsoes"
   ]
  },
  {
   "cell_type": "code",
   "execution_count": 18,
   "id": "6cdf14f3",
   "metadata": {},
   "outputs": [
    {
     "data": {
      "text/plain": [
       "array([[15.998008],\n",
       "       [16.34471 ],\n",
       "       [16.551395],\n",
       "       [16.565504],\n",
       "       [16.644539],\n",
       "       [16.842756],\n",
       "       [16.883696],\n",
       "       [16.698238],\n",
       "       [17.010658],\n",
       "       [17.160822],\n",
       "       [17.161848],\n",
       "       [17.39295 ],\n",
       "       [18.021673],\n",
       "       [17.987642],\n",
       "       [17.935879],\n",
       "       [18.164202],\n",
       "       [18.049875],\n",
       "       [18.876474],\n",
       "       [19.031357],\n",
       "       [19.398968],\n",
       "       [19.42409 ],\n",
       "       [19.120865]], dtype=float32)"
      ]
     },
     "execution_count": 18,
     "metadata": {},
     "output_type": "execute_result"
    }
   ],
   "source": [
    "previsoes = normalizador.inverse_transform(previsoes)\n",
    "previsoes"
   ]
  },
  {
   "cell_type": "code",
   "execution_count": 19,
   "id": "afa84267",
   "metadata": {},
   "outputs": [
    {
     "data": {
      "text/plain": [
       "(22, 1)"
      ]
     },
     "execution_count": 19,
     "metadata": {},
     "output_type": "execute_result"
    }
   ],
   "source": [
    "previsoes.shape"
   ]
  },
  {
   "cell_type": "code",
   "execution_count": 23,
   "id": "50674e14",
   "metadata": {},
   "outputs": [
    {
     "data": {
      "image/png": "[encoded data removed]",
      "text/plain": [
       "<Figure size 1440x720 with 1 Axes>"
      ]
     },
     "metadata": {
      "needs_background": "light"
     },
     "output_type": "display_data"
    }
   ],
   "source": [
    "plt.figure(figsize=(20,10))\n",
    "plt.plot(preco_real_teste, color='red', label = 'Preço real')\n",
    "plt.plot(previsoes, color = 'blue', label = 'Previsões')\n",
    "plt.title('Previsão preço das ações')\n",
    "plt.xlabel('Tempo')\n",
    "plt.ylabel('Valor Yahoo')\n",
    "plt.legend()\n",
    "plt.show()"
   ]
  },
  {
   "cell_type": "code",
   "execution_count": null,
   "id": "74cfedfb",
   "metadata": {},
   "outputs": [],
   "source": []
  }
 ],
 "metadata": {
  "kernelspec": {
   "display_name": "Python 3 (ipykernel)",
   "language": "python",
   "name": "python3"
  },
  "language_info": {
   "codemirror_mode": {
    "name": "ipython",
    "version": 3
   },
   "file_extension": ".py",
   "mimetype": "text/x-python",
   "name": "python",
   "nbconvert_exporter": "python",
   "pygments_lexer": "ipython3",
   "version": "3.7.4"
  }
 },
 "nbformat": 4,
 "nbformat_minor": 5
}
