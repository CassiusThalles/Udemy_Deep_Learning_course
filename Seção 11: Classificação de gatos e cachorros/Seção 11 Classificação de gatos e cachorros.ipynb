{
 "cells": [
  {
   "cell_type": "code",
   "execution_count": 1,
   "id": "759c83b3",
   "metadata": {},
   "outputs": [
    {
     "name": "stderr",
     "output_type": "stream",
     "text": [
      "/home/cassius/anaconda3/lib/python3.7/site-packages/tensorflow/python/framework/dtypes.py:516: FutureWarning: Passing (type, 1) or '1type' as a synonym of type is deprecated; in a future version of numpy, it will be understood as (type, (1,)) / '(1,)type'.\n",
      "  _np_qint8 = np.dtype([(\"qint8\", np.int8, 1)])\n",
      "/home/cassius/anaconda3/lib/python3.7/site-packages/tensorflow/python/framework/dtypes.py:517: FutureWarning: Passing (type, 1) or '1type' as a synonym of type is deprecated; in a future version of numpy, it will be understood as (type, (1,)) / '(1,)type'.\n",
      "  _np_quint8 = np.dtype([(\"quint8\", np.uint8, 1)])\n",
      "/home/cassius/anaconda3/lib/python3.7/site-packages/tensorflow/python/framework/dtypes.py:518: FutureWarning: Passing (type, 1) or '1type' as a synonym of type is deprecated; in a future version of numpy, it will be understood as (type, (1,)) / '(1,)type'.\n",
      "  _np_qint16 = np.dtype([(\"qint16\", np.int16, 1)])\n",
      "/home/cassius/anaconda3/lib/python3.7/site-packages/tensorflow/python/framework/dtypes.py:519: FutureWarning: Passing (type, 1) or '1type' as a synonym of type is deprecated; in a future version of numpy, it will be understood as (type, (1,)) / '(1,)type'.\n",
      "  _np_quint16 = np.dtype([(\"quint16\", np.uint16, 1)])\n",
      "/home/cassius/anaconda3/lib/python3.7/site-packages/tensorflow/python/framework/dtypes.py:520: FutureWarning: Passing (type, 1) or '1type' as a synonym of type is deprecated; in a future version of numpy, it will be understood as (type, (1,)) / '(1,)type'.\n",
      "  _np_qint32 = np.dtype([(\"qint32\", np.int32, 1)])\n",
      "/home/cassius/anaconda3/lib/python3.7/site-packages/tensorflow/python/framework/dtypes.py:525: FutureWarning: Passing (type, 1) or '1type' as a synonym of type is deprecated; in a future version of numpy, it will be understood as (type, (1,)) / '(1,)type'.\n",
      "  np_resource = np.dtype([(\"resource\", np.ubyte, 1)])\n",
      "/home/cassius/anaconda3/lib/python3.7/site-packages/tensorboard/compat/tensorflow_stub/dtypes.py:541: FutureWarning: Passing (type, 1) or '1type' as a synonym of type is deprecated; in a future version of numpy, it will be understood as (type, (1,)) / '(1,)type'.\n",
      "  _np_qint8 = np.dtype([(\"qint8\", np.int8, 1)])\n",
      "/home/cassius/anaconda3/lib/python3.7/site-packages/tensorboard/compat/tensorflow_stub/dtypes.py:542: FutureWarning: Passing (type, 1) or '1type' as a synonym of type is deprecated; in a future version of numpy, it will be understood as (type, (1,)) / '(1,)type'.\n",
      "  _np_quint8 = np.dtype([(\"quint8\", np.uint8, 1)])\n",
      "/home/cassius/anaconda3/lib/python3.7/site-packages/tensorboard/compat/tensorflow_stub/dtypes.py:543: FutureWarning: Passing (type, 1) or '1type' as a synonym of type is deprecated; in a future version of numpy, it will be understood as (type, (1,)) / '(1,)type'.\n",
      "  _np_qint16 = np.dtype([(\"qint16\", np.int16, 1)])\n",
      "/home/cassius/anaconda3/lib/python3.7/site-packages/tensorboard/compat/tensorflow_stub/dtypes.py:544: FutureWarning: Passing (type, 1) or '1type' as a synonym of type is deprecated; in a future version of numpy, it will be understood as (type, (1,)) / '(1,)type'.\n",
      "  _np_quint16 = np.dtype([(\"quint16\", np.uint16, 1)])\n",
      "/home/cassius/anaconda3/lib/python3.7/site-packages/tensorboard/compat/tensorflow_stub/dtypes.py:545: FutureWarning: Passing (type, 1) or '1type' as a synonym of type is deprecated; in a future version of numpy, it will be understood as (type, (1,)) / '(1,)type'.\n",
      "  _np_qint32 = np.dtype([(\"qint32\", np.int32, 1)])\n",
      "/home/cassius/anaconda3/lib/python3.7/site-packages/tensorboard/compat/tensorflow_stub/dtypes.py:550: FutureWarning: Passing (type, 1) or '1type' as a synonym of type is deprecated; in a future version of numpy, it will be understood as (type, (1,)) / '(1,)type'.\n",
      "  np_resource = np.dtype([(\"resource\", np.ubyte, 1)])\n"
     ]
    }
   ],
   "source": [
    "from tensorflow.keras.models import Sequential\n",
    "from tensorflow.keras.layers import Conv2D, MaxPooling2D, Flatten, Dense, Dropout\n",
    "from tensorflow.python.keras.layers.normalization import BatchNormalization\n",
    "from tensorflow.keras.preprocessing.image import ImageDataGenerator\n",
    "import numpy as np\n",
    "from tensorflow.keras.preprocessing import image"
   ]
  },
  {
   "cell_type": "code",
   "execution_count": 2,
   "id": "de2900ee",
   "metadata": {},
   "outputs": [
    {
     "name": "stdout",
     "output_type": "stream",
     "text": [
      "WARNING:tensorflow:From /home/cassius/anaconda3/lib/python3.7/site-packages/tensorflow/python/ops/init_ops.py:1251: calling VarianceScaling.__init__ (from tensorflow.python.ops.init_ops) with dtype is deprecated and will be removed in a future version.\n",
      "Instructions for updating:\n",
      "Call initializer instance with the dtype argument instead of passing it to the constructor\n",
      "WARNING:tensorflow:From /home/cassius/anaconda3/lib/python3.7/site-packages/tensorflow/python/ops/nn_impl.py:180: add_dispatch_support.<locals>.wrapper (from tensorflow.python.ops.array_ops) is deprecated and will be removed in a future version.\n",
      "Instructions for updating:\n",
      "Use tf.where in 2.0, which has the same broadcast rule as np.where\n"
     ]
    }
   ],
   "source": [
    "classificador = Sequential()\n",
    "classificador.add(Conv2D(32, (3,3), input_shape = (64, 64, 3), activation = 'relu'))\n",
    "classificador.add(BatchNormalization())\n",
    "classificador.add(MaxPooling2D(pool_size = (2,2)))\n",
    "\n",
    "classificador.add(Conv2D(32, (3,3), input_shape = (64, 64, 3), activation = 'relu'))\n",
    "classificador.add(BatchNormalization())\n",
    "classificador.add(MaxPooling2D(pool_size = (2,2)))\n",
    "\n",
    "classificador.add(Flatten())\n",
    "\n",
    "classificador.add(Dense(units = 128, activation = 'relu'))\n",
    "classificador.add(Dropout(0.2))\n",
    "classificador.add(Dense(units = 128, activation = 'relu'))\n",
    "classificador.add(Dropout(0.2))\n",
    "classificador.add(Dense(units = 1, activation = 'sigmoid'))\n",
    "\n",
    "classificador.compile(optimizer = 'adam', loss = 'binary_crossentropy',\n",
    "                      metrics = ['accuracy'])"
   ]
  },
  {
   "cell_type": "code",
   "execution_count": 3,
   "id": "11a598bc",
   "metadata": {},
   "outputs": [
    {
     "name": "stdout",
     "output_type": "stream",
     "text": [
      "Found 4000 images belonging to 2 classes.\n"
     ]
    },
    {
     "data": {
      "text/plain": [
       "<keras_preprocessing.image.directory_iterator.DirectoryIterator at 0x7f7a8a08b890>"
      ]
     },
     "execution_count": 3,
     "metadata": {},
     "output_type": "execute_result"
    }
   ],
   "source": [
    "gerador_treinamento = ImageDataGenerator(rescale = 1./255,\n",
    "                                         rotation_range = 7,\n",
    "                                         horizontal_flip = True,\n",
    "                                         shear_range = 0.2,\n",
    "                                         height_shift_range = 0.07,\n",
    "                                         zoom_range = 0.2)\n",
    "gerador_teste = ImageDataGenerator(rescale = 1./255)\n",
    "\n",
    "base_treinamento = gerador_treinamento.flow_from_directory('dataset/dataset/training_set',\n",
    "                                                           target_size = (64, 64),\n",
    "                                                           batch_size = 32,\n",
    "                                                           class_mode = 'binary')\n",
    "\n",
    "base_treinamento"
   ]
  },
  {
   "cell_type": "code",
   "execution_count": 4,
   "id": "3d59eae8",
   "metadata": {},
   "outputs": [
    {
     "name": "stdout",
     "output_type": "stream",
     "text": [
      "Found 1000 images belonging to 2 classes.\n"
     ]
    },
    {
     "data": {
      "text/plain": [
       "<keras_preprocessing.image.directory_iterator.DirectoryIterator at 0x7f7a8875fb90>"
      ]
     },
     "execution_count": 4,
     "metadata": {},
     "output_type": "execute_result"
    }
   ],
   "source": [
    "base_teste = gerador_teste.flow_from_directory('dataset/dataset/test_set',\n",
    "                                               target_size = (64, 64),\n",
    "                                               batch_size = 32,\n",
    "                                               class_mode = 'binary')\n",
    "base_teste"
   ]
  },
  {
   "cell_type": "code",
   "execution_count": 5,
   "id": "05b9f241",
   "metadata": {
    "scrolled": true
   },
   "outputs": [
    {
     "name": "stderr",
     "output_type": "stream",
     "text": [
      "2022-05-28 00:36:39.828960: I tensorflow/core/platform/cpu_feature_guard.cc:142] Your CPU supports instructions that this TensorFlow binary was not compiled to use: SSE4.1 SSE4.2 AVX AVX2 FMA\n",
      "2022-05-28 00:36:39.856392: I tensorflow/core/platform/profile_utils/cpu_utils.cc:94] CPU Frequency: 1999965000 Hz\n",
      "2022-05-28 00:36:39.856732: I tensorflow/compiler/xla/service/service.cc:168] XLA service 0x55edb70c23b0 executing computations on platform Host. Devices:\n",
      "2022-05-28 00:36:39.856750: I tensorflow/compiler/xla/service/service.cc:175]   StreamExecutor device (0): <undefined>, <undefined>\n",
      "2022-05-28 00:36:39.857931: I tensorflow/stream_executor/platform/default/dso_loader.cc:53] Could not dlopen library 'libcuda.so.1'; dlerror: libcuda.so.1: cannot open shared object file: No such file or directory\n",
      "2022-05-28 00:36:39.857942: E tensorflow/stream_executor/cuda/cuda_driver.cc:318] failed call to cuInit: UNKNOWN ERROR (303)\n",
      "2022-05-28 00:36:39.857957: I tensorflow/stream_executor/cuda/cuda_diagnostics.cc:156] kernel driver does not appear to be running on this host (cassius-Latitude-3400): /proc/driver/nvidia/version does not exist\n",
      "2022-05-28 00:36:39.884303: W tensorflow/compiler/jit/mark_for_compilation_pass.cc:1412] (One-time warning): Not using XLA:CPU for cluster because envvar TF_XLA_FLAGS=--tf_xla_cpu_global_jit was not set.  If you want XLA:CPU, either set that envvar, or use experimental_jit_scope to enable XLA:CPU.  To confirm that XLA is active, pass --vmodule=xla_compilation_cache=1 (as a proper command-line flag, not via TF_XLA_FLAGS) or set the envvar XLA_FLAGS=--xla_hlo_profile.\n"
     ]
    },
    {
     "name": "stdout",
     "output_type": "stream",
     "text": [
      "Epoch 1/10\n",
      "125/125 [==============================] - 19s 149ms/step - loss: 0.7938 - acc: 0.5658 - val_loss: 1.5890 - val_acc: 0.5000\n",
      "Epoch 2/10\n",
      "125/125 [==============================] - 21s 171ms/step - loss: 0.6635 - acc: 0.6152 - val_loss: 3.7705 - val_acc: 0.4980\n",
      "Epoch 3/10\n",
      "125/125 [==============================] - 21s 169ms/step - loss: 0.6429 - acc: 0.6223 - val_loss: 1.0954 - val_acc: 0.5390\n",
      "Epoch 4/10\n",
      "125/125 [==============================] - 21s 169ms/step - loss: 0.6229 - acc: 0.6585 - val_loss: 0.9380 - val_acc: 0.5560\n",
      "Epoch 5/10\n",
      "125/125 [==============================] - 21s 170ms/step - loss: 0.5982 - acc: 0.6727 - val_loss: 0.6287 - val_acc: 0.6650\n",
      "Epoch 6/10\n",
      "125/125 [==============================] - 21s 169ms/step - loss: 0.5813 - acc: 0.6873 - val_loss: 0.6086 - val_acc: 0.6720\n",
      "Epoch 7/10\n",
      "125/125 [==============================] - 21s 169ms/step - loss: 0.5561 - acc: 0.7085 - val_loss: 0.6065 - val_acc: 0.6830\n",
      "Epoch 8/10\n",
      "125/125 [==============================] - 21s 169ms/step - loss: 0.5494 - acc: 0.7105 - val_loss: 0.6383 - val_acc: 0.6580\n",
      "Epoch 9/10\n",
      "125/125 [==============================] - 21s 169ms/step - loss: 0.5314 - acc: 0.7325 - val_loss: 0.7184 - val_acc: 0.6140\n",
      "Epoch 10/10\n",
      "125/125 [==============================] - 21s 170ms/step - loss: 0.5122 - acc: 0.7430 - val_loss: 0.5851 - val_acc: 0.7000\n"
     ]
    },
    {
     "data": {
      "text/plain": [
       "<tensorflow.python.keras.callbacks.History at 0x7f7a8a0fb7d0>"
      ]
     },
     "execution_count": 5,
     "metadata": {},
     "output_type": "execute_result"
    }
   ],
   "source": [
    "classificador.fit_generator(base_treinamento, steps_per_epoch = 4000 / 32,\n",
    "                            epochs = 10, validation_data = base_teste,\n",
    "                            validation_steps = 1000 / 32)"
   ]
  },
  {
   "cell_type": "code",
   "execution_count": 6,
   "id": "9a697635",
   "metadata": {},
   "outputs": [],
   "source": [
    "imagem_teste = image.load_img('dataset/dataset/test_set/gato/cat.3500.jpg', target_size=(64,64))"
   ]
  },
  {
   "cell_type": "code",
   "execution_count": 7,
   "id": "e4bfba42",
   "metadata": {},
   "outputs": [
    {
     "data": {
      "image/png": "[encoded data removed]",
      "text/plain": [
       "<PIL.Image.Image image mode=RGB size=64x64>"
      ]
     },
     "execution_count": 7,
     "metadata": {},
     "output_type": "execute_result"
    }
   ],
   "source": [
    "imagem_teste"
   ]
  },
  {
   "cell_type": "code",
   "execution_count": 8,
   "id": "12195e61",
   "metadata": {},
   "outputs": [
    {
     "data": {
      "text/plain": [
       "array([[[196., 195., 201.],\n",
       "        [195., 194., 200.],\n",
       "        [209., 208., 214.],\n",
       "        ...,\n",
       "        [191., 188., 195.],\n",
       "        [193., 190., 197.],\n",
       "        [189., 186., 193.]],\n",
       "\n",
       "       [[204., 203., 209.],\n",
       "        [206., 205., 211.],\n",
       "        [194., 193., 199.],\n",
       "        ...,\n",
       "        [192., 189., 196.],\n",
       "        [197., 194., 201.],\n",
       "        [187., 184., 191.]],\n",
       "\n",
       "       [[196., 195., 201.],\n",
       "        [196., 195., 201.],\n",
       "        [193., 192., 198.],\n",
       "        ...,\n",
       "        [191., 188., 195.],\n",
       "        [189., 186., 193.],\n",
       "        [178., 175., 182.]],\n",
       "\n",
       "       ...,\n",
       "\n",
       "       [[250., 250., 250.],\n",
       "        [249., 249., 249.],\n",
       "        [252., 252., 252.],\n",
       "        ...,\n",
       "        [230., 228., 229.],\n",
       "        [234., 232., 233.],\n",
       "        [249., 247., 248.]],\n",
       "\n",
       "       [[248., 248., 248.],\n",
       "        [251., 251., 251.],\n",
       "        [249., 249., 249.],\n",
       "        ...,\n",
       "        [226., 224., 225.],\n",
       "        [231., 229., 230.],\n",
       "        [248., 246., 247.]],\n",
       "\n",
       "       [[249., 249., 249.],\n",
       "        [247., 247., 247.],\n",
       "        [245., 245., 245.],\n",
       "        ...,\n",
       "        [226., 224., 225.],\n",
       "        [232., 230., 231.],\n",
       "        [246., 244., 245.]]], dtype=float32)"
      ]
     },
     "execution_count": 8,
     "metadata": {},
     "output_type": "execute_result"
    }
   ],
   "source": [
    "imagem_teste = image.img_to_array(imagem_teste)\n",
    "imagem_teste"
   ]
  },
  {
   "cell_type": "code",
   "execution_count": 9,
   "id": "f313edcc",
   "metadata": {},
   "outputs": [
    {
     "data": {
      "text/plain": [
       "array([[[0.76862746, 0.7647059 , 0.7882353 ],\n",
       "        [0.7647059 , 0.7607843 , 0.78431374],\n",
       "        [0.81960785, 0.8156863 , 0.8392157 ],\n",
       "        ...,\n",
       "        [0.7490196 , 0.7372549 , 0.7647059 ],\n",
       "        [0.75686276, 0.74509805, 0.77254903],\n",
       "        [0.7411765 , 0.7294118 , 0.75686276]],\n",
       "\n",
       "       [[0.8       , 0.79607844, 0.81960785],\n",
       "        [0.80784315, 0.8039216 , 0.827451  ],\n",
       "        [0.7607843 , 0.75686276, 0.78039217],\n",
       "        ...,\n",
       "        [0.7529412 , 0.7411765 , 0.76862746],\n",
       "        [0.77254903, 0.7607843 , 0.7882353 ],\n",
       "        [0.73333335, 0.72156864, 0.7490196 ]],\n",
       "\n",
       "       [[0.76862746, 0.7647059 , 0.7882353 ],\n",
       "        [0.76862746, 0.7647059 , 0.7882353 ],\n",
       "        [0.75686276, 0.7529412 , 0.7764706 ],\n",
       "        ...,\n",
       "        [0.7490196 , 0.7372549 , 0.7647059 ],\n",
       "        [0.7411765 , 0.7294118 , 0.75686276],\n",
       "        [0.69803923, 0.6862745 , 0.7137255 ]],\n",
       "\n",
       "       ...,\n",
       "\n",
       "       [[0.98039216, 0.98039216, 0.98039216],\n",
       "        [0.9764706 , 0.9764706 , 0.9764706 ],\n",
       "        [0.9882353 , 0.9882353 , 0.9882353 ],\n",
       "        ...,\n",
       "        [0.9019608 , 0.89411765, 0.8980392 ],\n",
       "        [0.91764706, 0.9098039 , 0.9137255 ],\n",
       "        [0.9764706 , 0.96862745, 0.972549  ]],\n",
       "\n",
       "       [[0.972549  , 0.972549  , 0.972549  ],\n",
       "        [0.9843137 , 0.9843137 , 0.9843137 ],\n",
       "        [0.9764706 , 0.9764706 , 0.9764706 ],\n",
       "        ...,\n",
       "        [0.8862745 , 0.8784314 , 0.88235295],\n",
       "        [0.90588236, 0.8980392 , 0.9019608 ],\n",
       "        [0.972549  , 0.9647059 , 0.96862745]],\n",
       "\n",
       "       [[0.9764706 , 0.9764706 , 0.9764706 ],\n",
       "        [0.96862745, 0.96862745, 0.96862745],\n",
       "        [0.9607843 , 0.9607843 , 0.9607843 ],\n",
       "        ...,\n",
       "        [0.8862745 , 0.8784314 , 0.88235295],\n",
       "        [0.9098039 , 0.9019608 , 0.90588236],\n",
       "        [0.9647059 , 0.95686275, 0.9607843 ]]], dtype=float32)"
      ]
     },
     "execution_count": 9,
     "metadata": {},
     "output_type": "execute_result"
    }
   ],
   "source": [
    "imagem_teste /= 255\n",
    "imagem_teste"
   ]
  },
  {
   "cell_type": "code",
   "execution_count": 10,
   "id": "adbaff7b",
   "metadata": {},
   "outputs": [
    {
     "data": {
      "text/plain": [
       "(1, 64, 64, 3)"
      ]
     },
     "execution_count": 10,
     "metadata": {},
     "output_type": "execute_result"
    }
   ],
   "source": [
    "imagem_teste = np.expand_dims(imagem_teste, axis=0)\n",
    "imagem_teste.shape"
   ]
  },
  {
   "cell_type": "code",
   "execution_count": 11,
   "id": "eb02114e",
   "metadata": {},
   "outputs": [
    {
     "data": {
      "text/plain": [
       "array([[0.942804]], dtype=float32)"
      ]
     },
     "execution_count": 11,
     "metadata": {},
     "output_type": "execute_result"
    }
   ],
   "source": [
    "previsao = classificador.predict(imagem_teste)\n",
    "previsao"
   ]
  },
  {
   "cell_type": "code",
   "execution_count": 12,
   "id": "1a5ad885",
   "metadata": {},
   "outputs": [
    {
     "data": {
      "text/plain": [
       "{'cachorro': 0, 'gato': 1}"
      ]
     },
     "execution_count": 12,
     "metadata": {},
     "output_type": "execute_result"
    }
   ],
   "source": [
    "base_treinamento.class_indices"
   ]
  },
  {
   "cell_type": "code",
   "execution_count": 14,
   "id": "0941e988",
   "metadata": {},
   "outputs": [
    {
     "data": {
      "text/plain": [
       "array([[[[0.47058824, 0.49019608, 0.46666667],\n",
       "         [0.41568628, 0.43529412, 0.4117647 ],\n",
       "         [0.44705883, 0.46666667, 0.44313726],\n",
       "         ...,\n",
       "         [0.22745098, 0.16470589, 0.11372549],\n",
       "         [0.25490198, 0.14901961, 0.11372549],\n",
       "         [0.27450982, 0.13725491, 0.11372549]],\n",
       "\n",
       "        [[0.4117647 , 0.43137255, 0.40784314],\n",
       "         [0.5058824 , 0.5254902 , 0.5019608 ],\n",
       "         [0.5254902 , 0.54509807, 0.52156866],\n",
       "         ...,\n",
       "         [0.23529412, 0.15686275, 0.11372549],\n",
       "         [0.25882354, 0.16470589, 0.1254902 ],\n",
       "         [0.27058825, 0.15686275, 0.1254902 ]],\n",
       "\n",
       "        [[0.49411765, 0.5137255 , 0.49019608],\n",
       "         [0.5137255 , 0.53333336, 0.50980395],\n",
       "         [0.4627451 , 0.48235294, 0.45882353],\n",
       "         ...,\n",
       "         [0.2509804 , 0.15686275, 0.11764706],\n",
       "         [0.2509804 , 0.16470589, 0.12156863],\n",
       "         [0.24705882, 0.16078432, 0.11764706]],\n",
       "\n",
       "        ...,\n",
       "\n",
       "        [[0.61960787, 0.64705884, 0.7176471 ],\n",
       "         [0.7372549 , 0.7764706 , 0.8156863 ],\n",
       "         [0.72156864, 0.76862746, 0.8156863 ],\n",
       "         ...,\n",
       "         [0.3764706 , 0.3529412 , 0.36078432],\n",
       "         [0.3529412 , 0.32941177, 0.3372549 ],\n",
       "         [0.29803923, 0.27450982, 0.28235295]],\n",
       "\n",
       "        [[0.6666667 , 0.6745098 , 0.72156864],\n",
       "         [0.76862746, 0.7764706 , 0.8235294 ],\n",
       "         [0.7411765 , 0.7490196 , 0.79607844],\n",
       "         ...,\n",
       "         [0.3764706 , 0.34117648, 0.3529412 ],\n",
       "         [0.33333334, 0.29803923, 0.30980393],\n",
       "         [0.3254902 , 0.2901961 , 0.3019608 ]],\n",
       "\n",
       "        [[0.6901961 , 0.7058824 , 0.7176471 ],\n",
       "         [0.7254902 , 0.7411765 , 0.7529412 ],\n",
       "         [0.72156864, 0.7372549 , 0.7490196 ],\n",
       "         ...,\n",
       "         [0.36862746, 0.33333334, 0.34509805],\n",
       "         [0.3372549 , 0.3019608 , 0.3137255 ],\n",
       "         [0.38431373, 0.34901962, 0.36078432]]]], dtype=float32)"
      ]
     },
     "execution_count": 14,
     "metadata": {},
     "output_type": "execute_result"
    }
   ],
   "source": [
    "imagem_teste = image.load_img('dataset/dataset/test_set/cachorro/dog.3500.jpg', target_size=(64,64))\n",
    "imagem_teste = image.img_to_array(imagem_teste)\n",
    "imagem_teste /= 255\n",
    "imagem_teste = np.expand_dims(imagem_teste, axis=0)\n",
    "imagem_teste"
   ]
  },
  {
   "cell_type": "code",
   "execution_count": 17,
   "id": "7a710e05",
   "metadata": {},
   "outputs": [
    {
     "data": {
      "text/plain": [
       "array([[0.8446956]], dtype=float32)"
      ]
     },
     "execution_count": 17,
     "metadata": {},
     "output_type": "execute_result"
    }
   ],
   "source": [
    "previsao = classificador.predict(imagem_teste)\n",
    "previsao"
   ]
  },
  {
   "cell_type": "code",
   "execution_count": null,
   "id": "9ce1d469",
   "metadata": {},
   "outputs": [],
   "source": []
  }
 ],
 "metadata": {
  "kernelspec": {
   "display_name": "Python 3 (ipykernel)",
   "language": "python",
   "name": "python3"
  },
  "language_info": {
   "codemirror_mode": {
    "name": "ipython",
    "version": 3
   },
   "file_extension": ".py",
   "mimetype": "text/x-python",
   "name": "python",
   "nbconvert_exporter": "python",
   "pygments_lexer": "ipython3",
   "version": "3.7.4"
  }
 },
 "nbformat": 4,
 "nbformat_minor": 5
}
