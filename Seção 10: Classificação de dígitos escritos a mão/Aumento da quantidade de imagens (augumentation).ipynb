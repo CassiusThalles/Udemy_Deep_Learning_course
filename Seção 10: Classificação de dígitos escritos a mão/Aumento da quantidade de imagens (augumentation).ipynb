{
 "cells": [
  {
   "cell_type": "code",
   "execution_count": 5,
   "id": "68c7b8a8",
   "metadata": {},
   "outputs": [],
   "source": [
    "from keras.datasets import mnist\n",
    "from keras.models import Sequential\n",
    "from keras.layers import Dense, Flatten, Conv2D, MaxPooling2D\n",
    "from keras.utils import np_utils\n",
    "from keras.preprocessing.image import ImageDataGenerator"
   ]
  },
  {
   "cell_type": "code",
   "execution_count": 2,
   "id": "75ff8d6b",
   "metadata": {},
   "outputs": [],
   "source": [
    "(X_treinamento, y_treinamento), (X_teste, y_teste) = mnist.load_data()"
   ]
  },
  {
   "cell_type": "code",
   "execution_count": 3,
   "id": "24e380ab",
   "metadata": {},
   "outputs": [],
   "source": [
    "previsores_treinamento = X_treinamento.reshape(X_treinamento.shape[0], 28, 28, 1)\n",
    "previsores_treinamento = previsores_treinamento.astype('float32')\n",
    "previsores_treinamento /= 255\n",
    "\n",
    "previsores_teste = X_teste.reshape(X_teste.shape[0], 28, 28, 1)\n",
    "previsores_teste = previsores_teste.astype('float32')\n",
    "previsores_teste /= 255\n",
    "\n",
    "classe_treinamento = np_utils.to_categorical(y_treinamento, 10)\n",
    "classe_teste = np_utils.to_categorical(y_teste, 10)"
   ]
  },
  {
   "cell_type": "code",
   "execution_count": 4,
   "id": "362abe00",
   "metadata": {},
   "outputs": [
    {
     "name": "stdout",
     "output_type": "stream",
     "text": [
      "WARNING:tensorflow:From /home/cassius/anaconda3/lib/python3.7/site-packages/keras/backend/tensorflow_backend.py:4070: The name tf.nn.max_pool is deprecated. Please use tf.nn.max_pool2d instead.\n",
      "\n"
     ]
    }
   ],
   "source": [
    "classificador = Sequential()\n",
    "classificador.add(Conv2D(\n",
    "    32, (3,3), input_shape=(28, 28, 1), activation='relu'\n",
    "))\n",
    "classificador.add(MaxPooling2D(\n",
    "    pool_size=(2,2)\n",
    "))\n",
    "classificador.add(Flatten())\n",
    "\n",
    "classificador.add(Dense(\n",
    "    units=128, activation='relu'\n",
    "))\n",
    "classificador.add(Dense(\n",
    "    units=10, activation='softmax'\n",
    "))\n",
    "\n",
    "classificador.compile(loss='categorical_crossentropy', optimizer='adam', metrics=['accuracy'])"
   ]
  },
  {
   "cell_type": "code",
   "execution_count": 6,
   "id": "8608199f",
   "metadata": {},
   "outputs": [],
   "source": [
    "gerador_treinamento = ImageDataGenerator(\n",
    "    rotation_range=7,\n",
    "    horizontal_flip=True,\n",
    "    shear_range=0.2,\n",
    "    height_shift_range=0.07,\n",
    "    zoom_range=0.2\n",
    ")\n",
    "gerador_teste = ImageDataGenerator()\n",
    "\n",
    "base_treinamento = gerador_treinamento.flow(previsores_treinamento, classe_treinamento, batch_size=128)\n",
    "base_teste = gerador_teste.flow(previsores_teste, classe_teste, batch_size=128)"
   ]
  },
  {
   "cell_type": "code",
   "execution_count": 7,
   "id": "140cca61",
   "metadata": {},
   "outputs": [
    {
     "name": "stdout",
     "output_type": "stream",
     "text": [
      "WARNING:tensorflow:From /home/cassius/anaconda3/lib/python3.7/site-packages/keras/backend/tensorflow_backend.py:422: The name tf.global_variables is deprecated. Please use tf.compat.v1.global_variables instead.\n",
      "\n"
     ]
    },
    {
     "name": "stderr",
     "output_type": "stream",
     "text": [
      "2022-05-28 00:03:58.917688: I tensorflow/core/platform/cpu_feature_guard.cc:142] Your CPU supports instructions that this TensorFlow binary was not compiled to use: SSE4.1 SSE4.2 AVX AVX2 FMA\n",
      "2022-05-28 00:03:58.944315: I tensorflow/core/platform/profile_utils/cpu_utils.cc:94] CPU Frequency: 1999965000 Hz\n",
      "2022-05-28 00:03:58.944707: I tensorflow/compiler/xla/service/service.cc:168] XLA service 0x563dd1c45e30 executing computations on platform Host. Devices:\n",
      "2022-05-28 00:03:58.944728: I tensorflow/compiler/xla/service/service.cc:175]   StreamExecutor device (0): <undefined>, <undefined>\n",
      "2022-05-28 00:03:58.946061: I tensorflow/stream_executor/platform/default/dso_loader.cc:53] Could not dlopen library 'libcuda.so.1'; dlerror: libcuda.so.1: cannot open shared object file: No such file or directory\n",
      "2022-05-28 00:03:58.946083: E tensorflow/stream_executor/cuda/cuda_driver.cc:318] failed call to cuInit: UNKNOWN ERROR (303)\n",
      "2022-05-28 00:03:58.946102: I tensorflow/stream_executor/cuda/cuda_diagnostics.cc:156] kernel driver does not appear to be running on this host (cassius-Latitude-3400): /proc/driver/nvidia/version does not exist\n",
      "2022-05-28 00:03:58.995469: W tensorflow/compiler/jit/mark_for_compilation_pass.cc:1412] (One-time warning): Not using XLA:CPU for cluster because envvar TF_XLA_FLAGS=--tf_xla_cpu_global_jit was not set.  If you want XLA:CPU, either set that envvar, or use experimental_jit_scope to enable XLA:CPU.  To confirm that XLA is active, pass --vmodule=xla_compilation_cache=1 (as a proper command-line flag, not via TF_XLA_FLAGS) or set the envvar XLA_FLAGS=--xla_hlo_profile.\n"
     ]
    },
    {
     "name": "stdout",
     "output_type": "stream",
     "text": [
      "Epoch 1/5\n",
      "469/468 [==============================] - 18s 39ms/step - loss: 0.5713 - accuracy: 0.8169 - val_loss: 0.4090 - val_accuracy: 0.9258\n",
      "Epoch 2/5\n",
      "469/468 [==============================] - 24s 52ms/step - loss: 0.2613 - accuracy: 0.9175 - val_loss: 0.0239 - val_accuracy: 0.9596\n",
      "Epoch 3/5\n",
      "469/468 [==============================] - 22s 48ms/step - loss: 0.1908 - accuracy: 0.9409 - val_loss: 0.0631 - val_accuracy: 0.9650\n",
      "Epoch 4/5\n",
      "469/468 [==============================] - 21s 45ms/step - loss: 0.1548 - accuracy: 0.9520 - val_loss: 0.0057 - val_accuracy: 0.9722\n",
      "Epoch 5/5\n",
      "469/468 [==============================] - 21s 44ms/step - loss: 0.1349 - accuracy: 0.9591 - val_loss: 0.0681 - val_accuracy: 0.9749\n"
     ]
    },
    {
     "data": {
      "text/plain": [
       "<keras.callbacks.callbacks.History at 0x7f24bcd2ea10>"
      ]
     },
     "execution_count": 7,
     "metadata": {},
     "output_type": "execute_result"
    }
   ],
   "source": [
    "classificador.fit_generator(\n",
    "    base_treinamento,\n",
    "    steps_per_epoch=60000/128,\n",
    "    epochs=5,\n",
    "    validation_data=base_teste,\n",
    "    validation_steps=10000/128\n",
    ")"
   ]
  },
  {
   "cell_type": "code",
   "execution_count": null,
   "id": "52051f5a",
   "metadata": {},
   "outputs": [],
   "source": []
  }
 ],
 "metadata": {
  "kernelspec": {
   "display_name": "Python 3 (ipykernel)",
   "language": "python",
   "name": "python3"
  },
  "language_info": {
   "codemirror_mode": {
    "name": "ipython",
    "version": 3
   },
   "file_extension": ".py",
   "mimetype": "text/x-python",
   "name": "python",
   "nbconvert_exporter": "python",
   "pygments_lexer": "ipython3",
   "version": "3.7.4"
  }
 },
 "nbformat": 4,
 "nbformat_minor": 5
}
