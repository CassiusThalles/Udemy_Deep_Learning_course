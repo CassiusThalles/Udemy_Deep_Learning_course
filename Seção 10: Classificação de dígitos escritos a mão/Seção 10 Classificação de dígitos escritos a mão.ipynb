{
 "cells": [
  {
   "cell_type": "code",
   "execution_count": 18,
   "id": "5df3edb8",
   "metadata": {},
   "outputs": [],
   "source": [
    "import matplotlib.pyplot as plt\n",
    "from keras.datasets import mnist\n",
    "from keras.models import Sequential\n",
    "from keras.layers import Dense, Flatten, Dropout\n",
    "from keras.utils import np_utils\n",
    "from keras.layers import Conv2D, MaxPooling2D\n",
    "from keras.layers.normalization import BatchNormalization\n",
    "import numpy as np\n",
    "from sklearn.model_selection import StratifiedKFold"
   ]
  },
  {
   "cell_type": "code",
   "execution_count": 2,
   "id": "11c0d721",
   "metadata": {},
   "outputs": [],
   "source": [
    "(X_treinamento, y_treinamento), (X_teste, y_teste) = mnist.load_data()"
   ]
  },
  {
   "cell_type": "code",
   "execution_count": 3,
   "id": "c49d83a8",
   "metadata": {},
   "outputs": [
    {
     "data": {
      "text/plain": [
       "(60000, 28, 28)"
      ]
     },
     "execution_count": 3,
     "metadata": {},
     "output_type": "execute_result"
    }
   ],
   "source": [
    "X_treinamento.shape"
   ]
  },
  {
   "cell_type": "code",
   "execution_count": 4,
   "id": "bf74256d",
   "metadata": {},
   "outputs": [
    {
     "data": {
      "text/plain": [
       "Text(0.5, 1.0, 'Classe5')"
      ]
     },
     "execution_count": 4,
     "metadata": {},
     "output_type": "execute_result"
    },
    {
     "data": {
      "image/png": "[encoded data removed]",
      "text/plain": [
       "<Figure size 432x288 with 1 Axes>"
      ]
     },
     "metadata": {
      "needs_background": "light"
     },
     "output_type": "display_data"
    }
   ],
   "source": [
    "i = 0\n",
    "plt.imshow(X_treinamento[i], cmap = 'gray')\n",
    "plt.title('Classe' + str(y_treinamento[i]))"
   ]
  },
  {
   "cell_type": "code",
   "execution_count": 5,
   "id": "c1f0493e",
   "metadata": {},
   "outputs": [],
   "source": [
    "previsores_treinamento = X_treinamento.reshape(X_treinamento.shape[0], 28, 28, 1)\n",
    "previsores_treinamento = previsores_treinamento.astype('float32')\n",
    "previsores_teste = X_teste.reshape(X_teste.shape[0], 28, 28, 1)\n",
    "previsores_teste = previsores_teste.astype('float32')"
   ]
  },
  {
   "cell_type": "code",
   "execution_count": 6,
   "id": "18e966e9",
   "metadata": {},
   "outputs": [],
   "source": [
    "previsores_treinamento /= 255\n",
    "previsores_teste /= 255"
   ]
  },
  {
   "cell_type": "code",
   "execution_count": 7,
   "id": "55d65f5c",
   "metadata": {},
   "outputs": [],
   "source": [
    "classe_treinamento = np_utils.to_categorical(y_treinamento, 10)\n",
    "classe_teste = np_utils.to_categorical(y_teste, 10)"
   ]
  },
  {
   "cell_type": "code",
   "execution_count": 8,
   "id": "c802124c",
   "metadata": {},
   "outputs": [
    {
     "data": {
      "text/plain": [
       "(60000, 10)"
      ]
     },
     "execution_count": 8,
     "metadata": {},
     "output_type": "execute_result"
    }
   ],
   "source": [
    "classe_treinamento.shape"
   ]
  },
  {
   "cell_type": "code",
   "execution_count": 15,
   "id": "6693ba1a",
   "metadata": {},
   "outputs": [
    {
     "name": "stdout",
     "output_type": "stream",
     "text": [
      "Train on 60000 samples, validate on 10000 samples\n",
      "Epoch 1/5\n",
      "60000/60000 [==============================] - 38s 634us/step - loss: 0.2015 - accuracy: 0.9371 - val_loss: 0.2062 - val_accuracy: 0.9401\n",
      "Epoch 2/5\n",
      "60000/60000 [==============================] - 42s 708us/step - loss: 0.0617 - accuracy: 0.9813 - val_loss: 0.0555 - val_accuracy: 0.9847\n",
      "Epoch 3/5\n",
      "60000/60000 [==============================] - 45s 742us/step - loss: 0.0459 - accuracy: 0.9863 - val_loss: 0.0394 - val_accuracy: 0.9873\n",
      "Epoch 4/5\n",
      "60000/60000 [==============================] - 40s 674us/step - loss: 0.0352 - accuracy: 0.9893 - val_loss: 0.0364 - val_accuracy: 0.9886\n",
      "Epoch 5/5\n",
      "60000/60000 [==============================] - 43s 716us/step - loss: 0.0305 - accuracy: 0.9908 - val_loss: 0.0308 - val_accuracy: 0.9909\n"
     ]
    },
    {
     "data": {
      "text/plain": [
       "<keras.callbacks.callbacks.History at 0x7f437c7e3290>"
      ]
     },
     "execution_count": 15,
     "metadata": {},
     "output_type": "execute_result"
    }
   ],
   "source": [
    "classificador = Sequential()\n",
    "\n",
    "classificador.add(Conv2D(32, (3, 3), input_shape=(28, 28, 1), activation='relu'))\n",
    "classificador.add(BatchNormalization())\n",
    "classificador.add(MaxPooling2D(pool_size=(2, 2)))\n",
    "# classificador.add(Flatten())\n",
    "\n",
    "classificador.add(Conv2D(32, (3, 3), activation='relu'))\n",
    "classificador.add(BatchNormalization())\n",
    "classificador.add(MaxPooling2D(pool_size=(2, 2)))\n",
    "classificador.add(Flatten())\n",
    "\n",
    "classificador.add(Dense(units=128, activation='relu'))\n",
    "classificador.add(Dropout(0.2))\n",
    "\n",
    "classificador.add(Dense(units=128, activation='relu'))\n",
    "classificador.add(Dropout(0.2))\n",
    "\n",
    "classificador.add(Dense(units=10, activation='softmax'))\n",
    "classificador.compile(loss='categorical_crossentropy', optimizer='adam', metrics=['accuracy'])\n",
    "\n",
    "classificador.fit(\n",
    "    previsores_treinamento,\n",
    "    classe_treinamento,\n",
    "    batch_size=128,\n",
    "    epochs= 5,\n",
    "    validation_data=(previsores_teste, classe_teste)\n",
    ")"
   ]
  },
  {
   "cell_type": "code",
   "execution_count": 16,
   "id": "e22f0bbc",
   "metadata": {},
   "outputs": [
    {
     "name": "stdout",
     "output_type": "stream",
     "text": [
      "10000/10000 [==============================] - 3s 274us/step\n"
     ]
    },
    {
     "data": {
      "text/plain": [
       "[0.03078130389549515, 0.9908999800682068]"
      ]
     },
     "execution_count": 16,
     "metadata": {},
     "output_type": "execute_result"
    }
   ],
   "source": [
    "resultado = classificador.evaluate(previsores_teste, classe_teste)\n",
    "resultado"
   ]
  },
  {
   "cell_type": "code",
   "execution_count": 19,
   "id": "09feb21c",
   "metadata": {},
   "outputs": [],
   "source": [
    "seed = 5\n",
    "np.random.seed(seed)"
   ]
  },
  {
   "cell_type": "code",
   "execution_count": 21,
   "id": "fe5cd590",
   "metadata": {},
   "outputs": [],
   "source": [
    "previsores = previsores_treinamento\n",
    "classe = classe_treinamento"
   ]
  },
  {
   "cell_type": "code",
   "execution_count": 22,
   "id": "55eb9ed5",
   "metadata": {},
   "outputs": [],
   "source": [
    "kfold = StratifiedKFold(n_splits=5, shuffle=True, random_state=seed)\n",
    "resultados = []"
   ]
  },
  {
   "cell_type": "code",
   "execution_count": 24,
   "id": "bda3d06a",
   "metadata": {
    "scrolled": true
   },
   "outputs": [
    {
     "name": "stdout",
     "output_type": "stream",
     "text": [
      "Epoch 1/5\n",
      "48000/48000 [==============================] - 8s 173us/step - loss: 0.2484 - accuracy: 0.9287\n",
      "Epoch 2/5\n",
      "48000/48000 [==============================] - 8s 167us/step - loss: 0.0762 - accuracy: 0.9781\n",
      "Epoch 3/5\n",
      "48000/48000 [==============================] - 8s 173us/step - loss: 0.0498 - accuracy: 0.9850\n",
      "Epoch 4/5\n",
      "48000/48000 [==============================] - 10s 198us/step - loss: 0.0374 - accuracy: 0.9888\n",
      "Epoch 5/5\n",
      "48000/48000 [==============================] - 9s 191us/step - loss: 0.0284 - accuracy: 0.9912\n",
      "12000/12000 [==============================] - 1s 88us/step\n",
      "Epoch 1/5\n",
      "48000/48000 [==============================] - 10s 199us/step - loss: 0.2407 - accuracy: 0.9319\n",
      "Epoch 2/5\n",
      "48000/48000 [==============================] - 9s 182us/step - loss: 0.0756 - accuracy: 0.9779\n",
      "Epoch 3/5\n",
      "48000/48000 [==============================] - 8s 163us/step - loss: 0.0494 - accuracy: 0.9849\n",
      "Epoch 4/5\n",
      "48000/48000 [==============================] - 8s 162us/step - loss: 0.0370 - accuracy: 0.9889\n",
      "Epoch 5/5\n",
      "48000/48000 [==============================] - 8s 165us/step - loss: 0.0281 - accuracy: 0.9917\n",
      "12000/12000 [==============================] - 1s 112us/step\n",
      "Epoch 1/5\n",
      "48000/48000 [==============================] - 9s 191us/step - loss: 0.2488 - accuracy: 0.9290\n",
      "Epoch 2/5\n",
      "48000/48000 [==============================] - 10s 199us/step - loss: 0.0778 - accuracy: 0.9780\n",
      "Epoch 3/5\n",
      "48000/48000 [==============================] - 9s 191us/step - loss: 0.0527 - accuracy: 0.9845\n",
      "Epoch 4/5\n",
      "48000/48000 [==============================] - 9s 188us/step - loss: 0.0383 - accuracy: 0.9886\n",
      "Epoch 5/5\n",
      "48000/48000 [==============================] - 9s 187us/step - loss: 0.0285 - accuracy: 0.9913\n",
      "12000/12000 [==============================] - 1s 91us/step\n",
      "Epoch 1/5\n",
      "48000/48000 [==============================] - 9s 190us/step - loss: 0.2565 - accuracy: 0.9262\n",
      "Epoch 2/5\n",
      "48000/48000 [==============================] - 9s 187us/step - loss: 0.0817 - accuracy: 0.9759\n",
      "Epoch 3/5\n",
      "48000/48000 [==============================] - 9s 191us/step - loss: 0.0514 - accuracy: 0.9846\n",
      "Epoch 4/5\n",
      "48000/48000 [==============================] - 9s 183us/step - loss: 0.0380 - accuracy: 0.9884\n",
      "Epoch 5/5\n",
      "48000/48000 [==============================] - 8s 161us/step - loss: 0.0287 - accuracy: 0.9913\n",
      "12000/12000 [==============================] - 1s 73us/step\n",
      "Epoch 1/5\n",
      "48000/48000 [==============================] - 8s 163us/step - loss: 0.2503 - accuracy: 0.9298\n",
      "Epoch 2/5\n",
      "48000/48000 [==============================] - 8s 160us/step - loss: 0.0792 - accuracy: 0.9766\n",
      "Epoch 3/5\n",
      "48000/48000 [==============================] - 8s 160us/step - loss: 0.0543 - accuracy: 0.9838\n",
      "Epoch 4/5\n",
      "48000/48000 [==============================] - 8s 160us/step - loss: 0.0390 - accuracy: 0.9883\n",
      "Epoch 5/5\n",
      "48000/48000 [==============================] - 8s 162us/step - loss: 0.0295 - accuracy: 0.9913\n",
      "12000/12000 [==============================] - 1s 74us/step\n"
     ]
    }
   ],
   "source": [
    "a = np.zeros(5)\n",
    "b = np.zeros(shape=(classe.shape[0], 1))\n",
    "resultados2= []\n",
    "\n",
    "for indice_treinamento, indice_teste in kfold.split(previsores, np.zeros(shape=(classe.shape[0], 1))):\n",
    "#     print('Indices treinamento: ', indice_treinamento, 'índice teste: ', indice_teste)\n",
    "    classificador = Sequential()\n",
    "    classificador.add(Conv2D(32, (3, 3), input_shape=(28, 28, 1), activation='relu'))\n",
    "    classificador.add(MaxPooling2D(pool_size=(2, 2)))\n",
    "    classificador.add(Flatten())\n",
    "    classificador.add(Dense(units=128, activation='relu'))\n",
    "    classificador.add(Dense(units=10, activation='softmax'))\n",
    "    \n",
    "    classificador.compile(loss='categorical_crossentropy', optimizer='adam', metrics=['accuracy'])\n",
    "    \n",
    "    classificador.fit(previsores[indice_treinamento], classe[indice_treinamento], batch_size=128, epochs=5)\n",
    "    precisao = classificador.evaluate(previsores[indice_teste], classe[indice_teste])\n",
    "    resultados.append(precisao[1])\n",
    "    resultados2.append(precisao)\n"
   ]
  },
  {
   "cell_type": "code",
   "execution_count": 25,
   "id": "cbcd2a93",
   "metadata": {},
   "outputs": [
    {
     "data": {
      "text/plain": [
       "0.9838333368301392"
      ]
     },
     "execution_count": 25,
     "metadata": {},
     "output_type": "execute_result"
    }
   ],
   "source": [
    "# media = resultados.mean()\n",
    "media = sum(resultados) / len(resultados)\n",
    "media"
   ]
  },
  {
   "cell_type": "code",
   "execution_count": null,
   "id": "fda98766",
   "metadata": {},
   "outputs": [],
   "source": []
  }
 ],
 "metadata": {
  "kernelspec": {
   "display_name": "Python 3 (ipykernel)",
   "language": "python",
   "name": "python3"
  },
  "language_info": {
   "codemirror_mode": {
    "name": "ipython",
    "version": 3
   },
   "file_extension": ".py",
   "mimetype": "text/x-python",
   "name": "python",
   "nbconvert_exporter": "python",
   "pygments_lexer": "ipython3",
   "version": "3.7.4"
  }
 },
 "nbformat": 4,
 "nbformat_minor": 5
}
